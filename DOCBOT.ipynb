{
  "nbformat": 4,
  "nbformat_minor": 0,
  "metadata": {
    "colab": {
      "provenance": [],
      "authorship_tag": "ABX9TyNHrFgTSyXPfo/OOOdzgdDb",
      "include_colab_link": true
    },
    "kernelspec": {
      "name": "python3",
      "display_name": "Python 3"
    },
    "language_info": {
      "name": "python"
    }
  },
  "cells": [
    {
      "cell_type": "markdown",
      "metadata": {
        "id": "view-in-github",
        "colab_type": "text"
      },
      "source": [
        "<a href=\"https://colab.research.google.com/github/Yuvaa1/PYTHON-PROJECTS/blob/main/DOCBOT.ipynb\" target=\"_parent\"><img src=\"https://colab.research.google.com/assets/colab-badge.svg\" alt=\"Open In Colab\"/></a>"
      ]
    },
    {
      "cell_type": "code",
      "execution_count": null,
      "metadata": {
        "colab": {
          "base_uri": "https://localhost:8080/"
        },
        "id": "vgje5OjKHcQy",
        "outputId": "73664c0c-b191-4dfb-b2bd-4c4f32506d4a"
      },
      "outputs": [
        {
          "output_type": "stream",
          "name": "stdout",
          "text": [
            "Requirement already satisfied: nltk in /usr/local/lib/python3.11/dist-packages (3.9.1)\n",
            "Requirement already satisfied: click in /usr/local/lib/python3.11/dist-packages (from nltk) (8.1.8)\n",
            "Requirement already satisfied: joblib in /usr/local/lib/python3.11/dist-packages (from nltk) (1.4.2)\n",
            "Requirement already satisfied: regex>=2021.8.3 in /usr/local/lib/python3.11/dist-packages (from nltk) (2024.11.6)\n",
            "Requirement already satisfied: tqdm in /usr/local/lib/python3.11/dist-packages (from nltk) (4.67.1)\n"
          ]
        }
      ],
      "source": [
        "pip install nltk"
      ]
    },
    {
      "cell_type": "code",
      "source": [
        "pip install newspaper3k"
      ],
      "metadata": {
        "colab": {
          "base_uri": "https://localhost:8080/"
        },
        "id": "qphV6YTCIURO",
        "outputId": "860b72e8-e569-4ea8-f17c-a1335bdf4be3"
      },
      "execution_count": null,
      "outputs": [
        {
          "output_type": "stream",
          "name": "stdout",
          "text": [
            "Requirement already satisfied: newspaper3k in /usr/local/lib/python3.11/dist-packages (0.2.8)\n",
            "Requirement already satisfied: beautifulsoup4>=4.4.1 in /usr/local/lib/python3.11/dist-packages (from newspaper3k) (4.13.3)\n",
            "Requirement already satisfied: Pillow>=3.3.0 in /usr/local/lib/python3.11/dist-packages (from newspaper3k) (11.1.0)\n",
            "Requirement already satisfied: PyYAML>=3.11 in /usr/local/lib/python3.11/dist-packages (from newspaper3k) (6.0.2)\n",
            "Requirement already satisfied: cssselect>=0.9.2 in /usr/local/lib/python3.11/dist-packages (from newspaper3k) (1.3.0)\n",
            "Requirement already satisfied: lxml>=3.6.0 in /usr/local/lib/python3.11/dist-packages (from newspaper3k) (5.3.1)\n",
            "Requirement already satisfied: nltk>=3.2.1 in /usr/local/lib/python3.11/dist-packages (from newspaper3k) (3.9.1)\n",
            "Requirement already satisfied: requests>=2.10.0 in /usr/local/lib/python3.11/dist-packages (from newspaper3k) (2.32.3)\n",
            "Requirement already satisfied: feedparser>=5.2.1 in /usr/local/lib/python3.11/dist-packages (from newspaper3k) (6.0.11)\n",
            "Requirement already satisfied: tldextract>=2.0.1 in /usr/local/lib/python3.11/dist-packages (from newspaper3k) (5.1.3)\n",
            "Requirement already satisfied: feedfinder2>=0.0.4 in /usr/local/lib/python3.11/dist-packages (from newspaper3k) (0.0.4)\n",
            "Requirement already satisfied: jieba3k>=0.35.1 in /usr/local/lib/python3.11/dist-packages (from newspaper3k) (0.35.1)\n",
            "Requirement already satisfied: python-dateutil>=2.5.3 in /usr/local/lib/python3.11/dist-packages (from newspaper3k) (2.8.2)\n",
            "Requirement already satisfied: tinysegmenter==0.3 in /usr/local/lib/python3.11/dist-packages (from newspaper3k) (0.3)\n",
            "Requirement already satisfied: soupsieve>1.2 in /usr/local/lib/python3.11/dist-packages (from beautifulsoup4>=4.4.1->newspaper3k) (2.6)\n",
            "Requirement already satisfied: typing-extensions>=4.0.0 in /usr/local/lib/python3.11/dist-packages (from beautifulsoup4>=4.4.1->newspaper3k) (4.12.2)\n",
            "Requirement already satisfied: six in /usr/local/lib/python3.11/dist-packages (from feedfinder2>=0.0.4->newspaper3k) (1.17.0)\n",
            "Requirement already satisfied: sgmllib3k in /usr/local/lib/python3.11/dist-packages (from feedparser>=5.2.1->newspaper3k) (1.0.0)\n",
            "Requirement already satisfied: click in /usr/local/lib/python3.11/dist-packages (from nltk>=3.2.1->newspaper3k) (8.1.8)\n",
            "Requirement already satisfied: joblib in /usr/local/lib/python3.11/dist-packages (from nltk>=3.2.1->newspaper3k) (1.4.2)\n",
            "Requirement already satisfied: regex>=2021.8.3 in /usr/local/lib/python3.11/dist-packages (from nltk>=3.2.1->newspaper3k) (2024.11.6)\n",
            "Requirement already satisfied: tqdm in /usr/local/lib/python3.11/dist-packages (from nltk>=3.2.1->newspaper3k) (4.67.1)\n",
            "Requirement already satisfied: charset-normalizer<4,>=2 in /usr/local/lib/python3.11/dist-packages (from requests>=2.10.0->newspaper3k) (3.4.1)\n",
            "Requirement already satisfied: idna<4,>=2.5 in /usr/local/lib/python3.11/dist-packages (from requests>=2.10.0->newspaper3k) (3.10)\n",
            "Requirement already satisfied: urllib3<3,>=1.21.1 in /usr/local/lib/python3.11/dist-packages (from requests>=2.10.0->newspaper3k) (2.3.0)\n",
            "Requirement already satisfied: certifi>=2017.4.17 in /usr/local/lib/python3.11/dist-packages (from requests>=2.10.0->newspaper3k) (2025.1.31)\n",
            "Requirement already satisfied: requests-file>=1.4 in /usr/local/lib/python3.11/dist-packages (from tldextract>=2.0.1->newspaper3k) (2.1.0)\n",
            "Requirement already satisfied: filelock>=3.0.8 in /usr/local/lib/python3.11/dist-packages (from tldextract>=2.0.1->newspaper3k) (3.17.0)\n"
          ]
        }
      ]
    },
    {
      "cell_type": "code",
      "source": [
        "pip install --upgrade lxml newspaper3k\n"
      ],
      "metadata": {
        "colab": {
          "base_uri": "https://localhost:8080/"
        },
        "id": "sOmTTSfEI7Ro",
        "outputId": "06ef9668-fb7e-4497-d71a-dbe7d153757a"
      },
      "execution_count": null,
      "outputs": [
        {
          "output_type": "stream",
          "name": "stdout",
          "text": [
            "Requirement already satisfied: lxml in /usr/local/lib/python3.11/dist-packages (5.3.1)\n",
            "Requirement already satisfied: newspaper3k in /usr/local/lib/python3.11/dist-packages (0.2.8)\n",
            "Requirement already satisfied: beautifulsoup4>=4.4.1 in /usr/local/lib/python3.11/dist-packages (from newspaper3k) (4.13.3)\n",
            "Requirement already satisfied: Pillow>=3.3.0 in /usr/local/lib/python3.11/dist-packages (from newspaper3k) (11.1.0)\n",
            "Requirement already satisfied: PyYAML>=3.11 in /usr/local/lib/python3.11/dist-packages (from newspaper3k) (6.0.2)\n",
            "Requirement already satisfied: cssselect>=0.9.2 in /usr/local/lib/python3.11/dist-packages (from newspaper3k) (1.3.0)\n",
            "Requirement already satisfied: nltk>=3.2.1 in /usr/local/lib/python3.11/dist-packages (from newspaper3k) (3.9.1)\n",
            "Requirement already satisfied: requests>=2.10.0 in /usr/local/lib/python3.11/dist-packages (from newspaper3k) (2.32.3)\n",
            "Requirement already satisfied: feedparser>=5.2.1 in /usr/local/lib/python3.11/dist-packages (from newspaper3k) (6.0.11)\n",
            "Requirement already satisfied: tldextract>=2.0.1 in /usr/local/lib/python3.11/dist-packages (from newspaper3k) (5.1.3)\n",
            "Requirement already satisfied: feedfinder2>=0.0.4 in /usr/local/lib/python3.11/dist-packages (from newspaper3k) (0.0.4)\n",
            "Requirement already satisfied: jieba3k>=0.35.1 in /usr/local/lib/python3.11/dist-packages (from newspaper3k) (0.35.1)\n",
            "Requirement already satisfied: python-dateutil>=2.5.3 in /usr/local/lib/python3.11/dist-packages (from newspaper3k) (2.8.2)\n",
            "Requirement already satisfied: tinysegmenter==0.3 in /usr/local/lib/python3.11/dist-packages (from newspaper3k) (0.3)\n",
            "Requirement already satisfied: soupsieve>1.2 in /usr/local/lib/python3.11/dist-packages (from beautifulsoup4>=4.4.1->newspaper3k) (2.6)\n",
            "Requirement already satisfied: typing-extensions>=4.0.0 in /usr/local/lib/python3.11/dist-packages (from beautifulsoup4>=4.4.1->newspaper3k) (4.12.2)\n",
            "Requirement already satisfied: six in /usr/local/lib/python3.11/dist-packages (from feedfinder2>=0.0.4->newspaper3k) (1.17.0)\n",
            "Requirement already satisfied: sgmllib3k in /usr/local/lib/python3.11/dist-packages (from feedparser>=5.2.1->newspaper3k) (1.0.0)\n",
            "Requirement already satisfied: click in /usr/local/lib/python3.11/dist-packages (from nltk>=3.2.1->newspaper3k) (8.1.8)\n",
            "Requirement already satisfied: joblib in /usr/local/lib/python3.11/dist-packages (from nltk>=3.2.1->newspaper3k) (1.4.2)\n",
            "Requirement already satisfied: regex>=2021.8.3 in /usr/local/lib/python3.11/dist-packages (from nltk>=3.2.1->newspaper3k) (2024.11.6)\n",
            "Requirement already satisfied: tqdm in /usr/local/lib/python3.11/dist-packages (from nltk>=3.2.1->newspaper3k) (4.67.1)\n",
            "Requirement already satisfied: charset-normalizer<4,>=2 in /usr/local/lib/python3.11/dist-packages (from requests>=2.10.0->newspaper3k) (3.4.1)\n",
            "Requirement already satisfied: idna<4,>=2.5 in /usr/local/lib/python3.11/dist-packages (from requests>=2.10.0->newspaper3k) (3.10)\n",
            "Requirement already satisfied: urllib3<3,>=1.21.1 in /usr/local/lib/python3.11/dist-packages (from requests>=2.10.0->newspaper3k) (2.3.0)\n",
            "Requirement already satisfied: certifi>=2017.4.17 in /usr/local/lib/python3.11/dist-packages (from requests>=2.10.0->newspaper3k) (2025.1.31)\n",
            "Requirement already satisfied: requests-file>=1.4 in /usr/local/lib/python3.11/dist-packages (from tldextract>=2.0.1->newspaper3k) (2.1.0)\n",
            "Requirement already satisfied: filelock>=3.0.8 in /usr/local/lib/python3.11/dist-packages (from tldextract>=2.0.1->newspaper3k) (3.17.0)\n"
          ]
        }
      ]
    },
    {
      "cell_type": "code",
      "source": [
        "pip install lxml[html_clean]\n"
      ],
      "metadata": {
        "colab": {
          "base_uri": "https://localhost:8080/"
        },
        "id": "IUrTwhGQJeeT",
        "outputId": "0dcd7093-62d8-4133-e864-cae18c139d6a"
      },
      "execution_count": null,
      "outputs": [
        {
          "output_type": "stream",
          "name": "stdout",
          "text": [
            "Requirement already satisfied: lxml[html_clean] in /usr/local/lib/python3.11/dist-packages (5.3.1)\n",
            "Collecting lxml_html_clean (from lxml[html_clean])\n",
            "  Downloading lxml_html_clean-0.4.1-py3-none-any.whl.metadata (2.4 kB)\n",
            "Downloading lxml_html_clean-0.4.1-py3-none-any.whl (14 kB)\n",
            "Installing collected packages: lxml_html_clean\n",
            "Successfully installed lxml_html_clean-0.4.1\n"
          ]
        }
      ]
    },
    {
      "cell_type": "code",
      "source": [
        "from newspaper import Article\n",
        "import random\n",
        "import string\n",
        "import nltk\n",
        "from sklearn.feature_extraction.text import CountVectorizer\n",
        "from sklearn.metrics.pairwise import cosine_similarity\n",
        "import numpy as np\n",
        "import warnings\n",
        "warnings.filterwarnings('ignore')"
      ],
      "metadata": {
        "id": "c-Qk_JqUHeKL"
      },
      "execution_count": null,
      "outputs": []
    },
    {
      "cell_type": "code",
      "source": [
        "import nltk\n",
        "\n",
        "nltk.download('punkt_tab')"
      ],
      "metadata": {
        "colab": {
          "base_uri": "https://localhost:8080/"
        },
        "id": "rYIQcuCELdgX",
        "outputId": "78db521a-af4a-4e23-d8ab-478b930c9e34"
      },
      "execution_count": null,
      "outputs": [
        {
          "output_type": "stream",
          "name": "stderr",
          "text": [
            "[nltk_data] Downloading package punkt_tab to /root/nltk_data...\n",
            "[nltk_data]   Unzipping tokenizers/punkt_tab.zip.\n"
          ]
        },
        {
          "output_type": "execute_result",
          "data": {
            "text/plain": [
              "True"
            ]
          },
          "metadata": {},
          "execution_count": 24
        }
      ]
    },
    {
      "cell_type": "code",
      "source": [
        "nltk.download('punkt',quiet=True)"
      ],
      "metadata": {
        "colab": {
          "base_uri": "https://localhost:8080/"
        },
        "id": "6C92MazXHeUh",
        "outputId": "719f03e9-b520-4699-96a0-32200c77c6da"
      },
      "execution_count": null,
      "outputs": [
        {
          "output_type": "execute_result",
          "data": {
            "text/plain": [
              "True"
            ]
          },
          "metadata": {},
          "execution_count": 25
        }
      ]
    },
    {
      "cell_type": "code",
      "source": [
        "import nltk\n",
        "nltk.download('punkt')\n"
      ],
      "metadata": {
        "colab": {
          "base_uri": "https://localhost:8080/"
        },
        "id": "u1UxXxZBKv7H",
        "outputId": "a6685bc1-a3f3-44c7-ffc8-1d848fe00509"
      },
      "execution_count": null,
      "outputs": [
        {
          "output_type": "stream",
          "name": "stderr",
          "text": [
            "[nltk_data] Downloading package punkt to /root/nltk_data...\n",
            "[nltk_data]   Package punkt is already up-to-date!\n"
          ]
        },
        {
          "output_type": "execute_result",
          "data": {
            "text/plain": [
              "True"
            ]
          },
          "metadata": {},
          "execution_count": 26
        }
      ]
    },
    {
      "cell_type": "code",
      "source": [
        "import nltk\n",
        "print(nltk.data.find('tokenizers/punkt'))\n"
      ],
      "metadata": {
        "colab": {
          "base_uri": "https://localhost:8080/"
        },
        "id": "yjJBiAmmLEOY",
        "outputId": "f73f1cee-d7d4-4bbf-b542-d1ec1ab1767f"
      },
      "execution_count": null,
      "outputs": [
        {
          "output_type": "stream",
          "name": "stdout",
          "text": [
            "/root/nltk_data/tokenizers/punkt\n"
          ]
        }
      ]
    },
    {
      "cell_type": "code",
      "source": [
        "article=Article('https://www.mayoclinic.org/diseases-conditions/chronic-kidney-disease/symptoms-causes/syc-20354521')\n",
        "article.download()\n",
        "article.parse()\n",
        "article.nlp()\n",
        "corpus=article.text"
      ],
      "metadata": {
        "id": "_7J-3EGQHeXG"
      },
      "execution_count": null,
      "outputs": []
    },
    {
      "cell_type": "code",
      "source": [
        "print(corpus)"
      ],
      "metadata": {
        "colab": {
          "base_uri": "https://localhost:8080/"
        },
        "id": "K_mOFVnvHeZ5",
        "outputId": "0effec8d-c881-49ae-9be9-9a29bccd1e16"
      },
      "execution_count": null,
      "outputs": [
        {
          "output_type": "stream",
          "name": "stdout",
          "text": [
            "I'm Dr. Andrew Bentall, a kidney doctor at Mayo Clinic. I look after patients with kidney disease, either in the early stages, or with more advanced kidney disease considering dialysis and transplantation as treatment options. In this video, we'll cover the basics of chronic kidney disease. What is it? Who gets it? The symptoms, diagnosis and treatment. Whether you are looking for answers for yourself or for someone you love, we're here to give you the best information available.\n",
            "\n",
            "Chronic kidney disease is a disease characterized by progressive damage and loss of function in the kidneys. It's estimated that chronic kidney disease affects about one in seven American adults. And most of those don't know they have it. Before we get into the disease itself, let's talk a little bit about the kidneys and what they do. Our kidneys play many important roles keeping our bodies in balance. They remove waste and toxins, excess water from the bloodstream, which is carried out of the body in urine. They helped to make hormones to produce red blood cells, and they turn vitamin D into its active form, so it's usable in the body.\n",
            "\n",
            "There are quite a few things that can cause or put you at higher risk for chronic kidney disease. Some of them are not things that can be avoided. Your risk is simply higher if you have a family history of certain genetic conditions like polycystic kidney disease or some autoimmune diseases like lupus or IgA nephropathy. Defects in the kidney structure can also cause your kidneys to fail, and you have an increased risk as you get older. Sometimes, other common medical conditions can increase your risk. Diabetes is the most common cause of kidney disease. Both type 1 and type 2 diabetes. But also heart disease and obesity can contribute to the damage that causes kidneys to fail. Urinary tract issues and inflammation in different parts of the kidney can also lead to long-term functional decline. There are things that are more under our control: Heavy or long-term use of certain medications, even those that are common over-the-counter. Smoking can also be a contributing factor to chronic kidney disease.\n",
            "\n",
            "Often there are no outward signs in the earlier stages of chronic kidney disease, which is grouped into stages 1 through 5. Generally, earlier stages are known as 1 to 3. And as kidney disease progresses, you may notice the following symptoms. Nausea and vomiting, muscle cramps, loss of appetite, swelling via feet and ankles, dry, itchy skin, shortness of breath, trouble sleeping, urinating either too much or too little. However, these are usually in the later stages, but they can also happen in other disorders. So don't automatically interpret this as having kidney disease. But if you're experiencing anything that concerns you, you should make an appointment with your doctor.\n",
            "\n",
            "Even before any symptoms appear, routine blood work can indicate that you might be in the early stages of chronic kidney disease. And the earlier it's detected, the easier it is to treat. This is why regular checkups with your doctor are important. If your doctor suspects the onset of chronic kidney disease, they may schedule a variety of other tests. They may also refer you to a kidney specialist, a nephrologist like myself. Urine tests can reveal abnormalities and give clues to the underlying cause of the chronic kidney disease. And this can also help to determine the underlying issues. Various imaging tests like ultrasounds or CT scans can be done to help your doctor assess the size, the structure, as well as evaluate the visible damage, inflammation or stones of your kidneys. And in some cases, a kidney biopsy may be necessary. And a small amount of tissue is taken with a needle and sent to the pathologist for further analysis.\n",
            "\n",
            "Treatment is determined by what is causing your kidneys to not function normally. Treating the cause is key, leading to reduced complications and slowing progression of kidney disease. For example, getting better blood pressure control, improved sugar control and diabetes, and reducing weight are often key interventions. However, existing damage is not usually reversible. In some conditions, treatment can reverse the cause of the disease. So seeking medical review is really important. Individual complications vary, but treatment might include high blood pressure medication, diuretics to reduce fluid and swelling, supplements to relieve anemia, statins to lower cholesterol, or medications to protect your bones and prevent blood vessel calcification. A lower-protein diet may also be recommended. It reduces the amount of waste your kidneys need to filter from your blood. These can not only slow the damage of kidney disease, but make you feel better as well. When the damage has progressed to the point that 85 to 90 percent of your kidney function is gone, and they no longer work well enough to keep you alive, it's called end-stage kidney failure. But there are still options. There's dialysis, which uses a machine to filter the toxins and remove water from your body as your kidneys are no longer able to do this. Where possible, the preferred therapy is a kidney transplant. While an organ transplant can sound daunting, it's actually often the better alternative, and the closest thing to a cure, if you qualify for a kidney transplant.\n",
            "\n",
            "If you have kidney disease, there are lifestyle choices. Namely quit smoking. Consuming alcohol in moderation. If you're overweight or obese, then try to lose weight. Staying active and getting exercise can help not only with your weight, but fatigue and stress. If your condition allows, keep up with your routine, whether that's working, hobbies, social activities, or other things you enjoy. It can be helpful to talk to someone you trust, a friend or relative who's good at listening. Or your doctor could also refer you to a therapist or social worker. It can also be helpful to find a support group and connect with people going through the same thing. Learning you have chronic kidney disease and learning how to live with it can be a challenge. But there are lots of ways to help you to be more comfortable for longer before more drastic measures are needed. And even then, there is plenty of hope. If you'd like to learn even more about chronic kidney disease, watch our other related videos or visit mayoclinic.org. We wish you well.\n"
          ]
        }
      ]
    },
    {
      "cell_type": "code",
      "source": [
        "text=corpus\n",
        "sentence_list=nltk.sent_tokenize(text)"
      ],
      "metadata": {
        "id": "05mlslqaHecm"
      },
      "execution_count": null,
      "outputs": []
    },
    {
      "cell_type": "code",
      "source": [
        "print(sentence_list)"
      ],
      "metadata": {
        "colab": {
          "base_uri": "https://localhost:8080/"
        },
        "id": "5nwsyAOUHegD",
        "outputId": "50e8ce16-93d0-4f8a-f0aa-ece7da390a32"
      },
      "execution_count": null,
      "outputs": [
        {
          "output_type": "stream",
          "name": "stdout",
          "text": [
            "[\"I'm Dr. Andrew Bentall, a kidney doctor at Mayo Clinic.\", 'I look after patients with kidney disease, either in the early stages, or with more advanced kidney disease considering dialysis and transplantation as treatment options.', \"In this video, we'll cover the basics of chronic kidney disease.\", 'What is it?', 'Who gets it?', 'The symptoms, diagnosis and treatment.', \"Whether you are looking for answers for yourself or for someone you love, we're here to give you the best information available.\", 'Chronic kidney disease is a disease characterized by progressive damage and loss of function in the kidneys.', \"It's estimated that chronic kidney disease affects about one in seven American adults.\", \"And most of those don't know they have it.\", \"Before we get into the disease itself, let's talk a little bit about the kidneys and what they do.\", 'Our kidneys play many important roles keeping our bodies in balance.', 'They remove waste and toxins, excess water from the bloodstream, which is carried out of the body in urine.', \"They helped to make hormones to produce red blood cells, and they turn vitamin D into its active form, so it's usable in the body.\", 'There are quite a few things that can cause or put you at higher risk for chronic kidney disease.', 'Some of them are not things that can be avoided.', 'Your risk is simply higher if you have a family history of certain genetic conditions like polycystic kidney disease or some autoimmune diseases like lupus or IgA nephropathy.', 'Defects in the kidney structure can also cause your kidneys to fail, and you have an increased risk as you get older.', 'Sometimes, other common medical conditions can increase your risk.', 'Diabetes is the most common cause of kidney disease.', 'Both type 1 and type 2 diabetes.', 'But also heart disease and obesity can contribute to the damage that causes kidneys to fail.', 'Urinary tract issues and inflammation in different parts of the kidney can also lead to long-term functional decline.', 'There are things that are more under our control: Heavy or long-term use of certain medications, even those that are common over-the-counter.', 'Smoking can also be a contributing factor to chronic kidney disease.', 'Often there are no outward signs in the earlier stages of chronic kidney disease, which is grouped into stages 1 through 5.', 'Generally, earlier stages are known as 1 to 3.', 'And as kidney disease progresses, you may notice the following symptoms.', 'Nausea and vomiting, muscle cramps, loss of appetite, swelling via feet and ankles, dry, itchy skin, shortness of breath, trouble sleeping, urinating either too much or too little.', 'However, these are usually in the later stages, but they can also happen in other disorders.', \"So don't automatically interpret this as having kidney disease.\", \"But if you're experiencing anything that concerns you, you should make an appointment with your doctor.\", 'Even before any symptoms appear, routine blood work can indicate that you might be in the early stages of chronic kidney disease.', \"And the earlier it's detected, the easier it is to treat.\", 'This is why regular checkups with your doctor are important.', 'If your doctor suspects the onset of chronic kidney disease, they may schedule a variety of other tests.', 'They may also refer you to a kidney specialist, a nephrologist like myself.', 'Urine tests can reveal abnormalities and give clues to the underlying cause of the chronic kidney disease.', 'And this can also help to determine the underlying issues.', 'Various imaging tests like ultrasounds or CT scans can be done to help your doctor assess the size, the structure, as well as evaluate the visible damage, inflammation or stones of your kidneys.', 'And in some cases, a kidney biopsy may be necessary.', 'And a small amount of tissue is taken with a needle and sent to the pathologist for further analysis.', 'Treatment is determined by what is causing your kidneys to not function normally.', 'Treating the cause is key, leading to reduced complications and slowing progression of kidney disease.', 'For example, getting better blood pressure control, improved sugar control and diabetes, and reducing weight are often key interventions.', 'However, existing damage is not usually reversible.', 'In some conditions, treatment can reverse the cause of the disease.', 'So seeking medical review is really important.', 'Individual complications vary, but treatment might include high blood pressure medication, diuretics to reduce fluid and swelling, supplements to relieve anemia, statins to lower cholesterol, or medications to protect your bones and prevent blood vessel calcification.', 'A lower-protein diet may also be recommended.', 'It reduces the amount of waste your kidneys need to filter from your blood.', 'These can not only slow the damage of kidney disease, but make you feel better as well.', \"When the damage has progressed to the point that 85 to 90 percent of your kidney function is gone, and they no longer work well enough to keep you alive, it's called end-stage kidney failure.\", 'But there are still options.', \"There's dialysis, which uses a machine to filter the toxins and remove water from your body as your kidneys are no longer able to do this.\", 'Where possible, the preferred therapy is a kidney transplant.', \"While an organ transplant can sound daunting, it's actually often the better alternative, and the closest thing to a cure, if you qualify for a kidney transplant.\", 'If you have kidney disease, there are lifestyle choices.', 'Namely quit smoking.', 'Consuming alcohol in moderation.', \"If you're overweight or obese, then try to lose weight.\", 'Staying active and getting exercise can help not only with your weight, but fatigue and stress.', \"If your condition allows, keep up with your routine, whether that's working, hobbies, social activities, or other things you enjoy.\", \"It can be helpful to talk to someone you trust, a friend or relative who's good at listening.\", 'Or your doctor could also refer you to a therapist or social worker.', 'It can also be helpful to find a support group and connect with people going through the same thing.', 'Learning you have chronic kidney disease and learning how to live with it can be a challenge.', 'But there are lots of ways to help you to be more comfortable for longer before more drastic measures are needed.', 'And even then, there is plenty of hope.', \"If you'd like to learn even more about chronic kidney disease, watch our other related videos or visit mayoclinic.org.\", 'We wish you well.']\n"
          ]
        }
      ]
    },
    {
      "cell_type": "code",
      "source": [
        "def greetings_response(text):\n",
        "    text=text.lower()\n",
        "    bot_greetings = ['hi','hey','hello','hola']\n",
        "    user_greetings=['hi','hey','hello','hola','greetings','wassup']\n",
        "\n",
        "    for word in text.split():\n",
        "        if word in user_greetings:\n",
        "           return random.choice(bot_greetings)"
      ],
      "metadata": {
        "id": "H8i22RLOOEXa"
      },
      "execution_count": null,
      "outputs": []
    },
    {
      "cell_type": "markdown",
      "source": [],
      "metadata": {
        "id": "NzG3RueyNIdf"
      }
    },
    {
      "cell_type": "code",
      "source": [
        "def bot_response(user_input):\n",
        "    user_input=user_input.lower()\n",
        "    sentence_list.append(user_input)\n",
        "    bot_response=''\n",
        "    cm=CountVectorizer().fit_transform(sentence_list)\n",
        "    similarity_scores=cosine_similarity(cm[-1],cm)\n",
        "    similarity_scores_list=similarity_scores.flatten()\n",
        "    index=index_sort(similarity_scores_list)"
      ],
      "metadata": {
        "id": "3b5O09uCOH3I"
      },
      "execution_count": null,
      "outputs": []
    },
    {
      "cell_type": "code",
      "source": [
        "def index_sort(list_var):\n",
        "    length=len(list_var)\n",
        "    list_index=list(range(0,length))\n",
        "    x=list_var\n",
        "    for i in range(length):\n",
        "        for j in range(length):\n",
        "            if x[list_index[i]]>x[list_index[j]]:\n",
        "                temp=list_index[i]\n",
        "                list_index[i]=list_index[j]\n",
        "                list_index[j]=temp\n",
        "    return list_index"
      ],
      "metadata": {
        "id": "kP8Tyi8kOLh_"
      },
      "execution_count": null,
      "outputs": []
    },
    {
      "cell_type": "code",
      "source": [
        "def bot_response(user_input):\n",
        "    user_input=user_input.lower()\n",
        "    sentence_list.append(user_input)\n",
        "    bot_response=''\n",
        "    cm=CountVectorizer().fit_transform(sentence_list)\n",
        "    similarity_scores=cosine_similarity(cm[-1],cm)\n",
        "    similarity_scores_list=similarity_scores.flatten()\n",
        "    index=index_sort(similarity_scores_list)\n",
        "    index=index[1:]\n",
        "    response_flag=0\n",
        "\n",
        "    p=0\n",
        "    for i in range(len(index)):\n",
        "      if similarity_scores_list[index[i]]>0.0:\n",
        "        bot_response=bot_response+' '+sentence_list[index[i]]\n",
        "        response_flag=1\n",
        "        p=p+1\n",
        "      if p>2:\n",
        "        break\n",
        "    if response_flag==0:\n",
        "        bot_response=bot_response+' '+\"I apologize, I don't understand.\"\n",
        "    sentence_list.remove(user_input)\n",
        "    return bot_response"
      ],
      "metadata": {
        "id": "1lMyIzCrMCHf"
      },
      "execution_count": null,
      "outputs": []
    },
    {
      "cell_type": "code",
      "source": [
        "print('Doc Bot: I am Doctor Bot or Doc Bot for short. I will answer your queries about Chronic Kidney Disease. If you want to exit, type bye')\n",
        "exit_list=['exit','see you later','bye','quit','break']\n",
        "while(True):\n",
        "    user_input=input()\n",
        "    if user_input.lower() in exit_list:\n",
        "        print('Doc Bot: Chat with you later')\n",
        "        break\n",
        "    else:\n",
        "        if greetings_response(user_input)!=None:\n",
        "            print('Doc Bot: '+greetings_response(user_input))\n",
        "        else:\n",
        "            print('Doc Bot: '+bot_response(user_input))"
      ],
      "metadata": {
        "colab": {
          "base_uri": "https://localhost:8080/"
        },
        "id": "q6SODWt7MCKm",
        "outputId": "b1a9efd8-8748-4498-915f-24092b0b3127"
      },
      "execution_count": null,
      "outputs": [
        {
          "output_type": "stream",
          "name": "stdout",
          "text": [
            "Doc Bot: I am Doctor Bot or Doc Bot for short. I will answer your queries about Chronic Kidney Disease. If you want to exit, type bye\n",
            "hey\n",
            "Doc Bot: hola\n",
            "whats chronic disease\n",
            "Doc Bot:  Chronic kidney disease is a disease characterized by progressive damage and loss of function in the kidneys. Smoking can also be a contributing factor to chronic kidney disease. In this video, we'll cover the basics of chronic kidney disease.\n",
            "bye\n",
            "Doc Bot: Chat with you later\n"
          ]
        }
      ]
    },
    {
      "cell_type": "code",
      "source": [],
      "metadata": {
        "id": "aeTyg6XIMCN1"
      },
      "execution_count": null,
      "outputs": []
    }
  ]
}